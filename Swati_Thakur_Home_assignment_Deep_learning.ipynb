{
  "nbformat": 4,
  "nbformat_minor": 0,
  "metadata": {
    "colab": {
      "provenance": [],
      "gpuType": "T4"
    },
    "kernelspec": {
      "name": "python3",
      "display_name": "Python 3"
    },
    "language_info": {
      "name": "python"
    },
    "accelerator": "GPU"
  },
  "cells": [
    {
      "cell_type": "markdown",
      "source": [
        "# **Home assignment - Deep Learning (ITLB359, MIB)**\n",
        "\n",
        "**Task description**\n",
        "\n",
        "The task is to classify the samples from the Forbes Global 2000 dataset according to a reasonably chosen division in market value.\n",
        "\n"
      ],
      "metadata": {
        "id": "_7ufb1If7C7l"
      }
    },
    {
      "cell_type": "markdown",
      "source": [
        "# **Solution**\n",
        "\n",
        "Steps taken to perform the task.\n",
        "\n",
        "**Download and Load the Data:** I am downloading the Forbes Global 2000 dataset from the provided\n",
        "link and load it into a pandas DataFrame for further analysis.\n",
        "\n",
        "**Exploratory Data Analysis (EDA):**  Performing exploratory data analysis to understand the\n",
        "structure of the data, identify missing values, check for outliers, and explore the distribution of\n",
        "features. Based on the EDA, I'll decide how to create labels for the classification task.\n",
        "\n",
        "**Preprocessing:** Depending on the findings from the EDA, I am preprocessing the data which may\n",
        "include handling missing values, encoding categorical variables, and scaling numerical features.\n",
        "\n",
        "**Splitting the Data:** I am spliting the data into training, validation, and test sets. The validation\n",
        "set will be used for tuning hyperparameters, and the test set will be used for evaluating the finalmodel's performance.\n",
        "\n",
        "**Model Selection and Training:** Experimenting with different neural network architectures,\n",
        "hyperparameters, and optimization algorithms and training the models on the training set and evaluate\n",
        "their performance on the validation set.\n",
        "\n",
        "**Hyperparameter Tuning:** Using techniques like grid search or random search to find the optimal\n",
        "hyperparameters for the chosen model.\n",
        "\n",
        "**Evaluation:** Finally, I am evaluating the best performing model on the test set to assess its generalization performance. I'll use appropriate metrics such as accuracy, precision, recall, and F1-score.\n",
        "\n",
        "**Reflection:** I'll critically evaluate my approach, discussing the choices made during preprocessing,\n",
        "model selection, and hyperparameter tuning.If require I'll also consider alternative approaches that could\n",
        "potentially improve the model's performance."
      ],
      "metadata": {
        "id": "NDvUIV-Y7tXd"
      }
    },
    {
      "cell_type": "code",
      "execution_count": 142,
      "metadata": {
        "id": "X11weN1_sjOV"
      },
      "outputs": [],
      "source": [
        "# Importing necessary libraries\n",
        "import pandas as pd\n",
        "import numpy as np\n",
        "import seaborn as sns\n",
        "import matplotlib.pyplot as plt\n",
        "from sklearn.model_selection import train_test_split\n",
        "from sklearn.preprocessing import StandardScaler, LabelEncoder\n",
        "from sklearn.metrics import accuracy_score, classification_report\n",
        "import tensorflow as tf\n",
        "from keras.models import Sequential\n",
        "from keras.layers import Dropout\n",
        "from keras.layers import Dense\n",
        "from keras.optimizers import Adam\n",
        "from keras.callbacks import EarlyStopping"
      ]
    },
    {
      "cell_type": "code",
      "source": [
        "# Random seeds for reproducible results\n",
        "from numpy.random import seed\n",
        "seed(14)\n",
        "tf.keras.utils.set_random_seed(19)"
      ],
      "metadata": {
        "id": "WLzVlc2PtZYZ"
      },
      "execution_count": 143,
      "outputs": []
    },
    {
      "cell_type": "code",
      "source": [
        " #Downloading and Loading the Data:\n",
        "fileurl = \"https://drive.google.com/file/d/1T_aCbmAGIPTDPaknvxTN3rvaS3g7Htpm/view?usp=sharing\"\n",
        "file_id = fileurl.split('/')[-2]\n",
        "data_url = f\"https://drive.google.com/uc?id={file_id}\"\n",
        "df = pd.read_csv(data_url,delimiter=';', header=0)"
      ],
      "metadata": {
        "id": "m7rhBDZas_Xw"
      },
      "execution_count": 144,
      "outputs": []
    },
    {
      "cell_type": "code",
      "source": [
        "df.head()"
      ],
      "metadata": {
        "colab": {
          "base_uri": "https://localhost:8080/",
          "height": 206
        },
        "id": "8chdOeCDtljy",
        "outputId": "6fca62ea-4667-4fc6-ee62-30927a91ca5e"
      },
      "execution_count": 145,
      "outputs": [
        {
          "output_type": "execute_result",
          "data": {
            "text/plain": [
              "            Company              Industry         Country     Sales  Profits  \\\n",
              "0     HSBC Holdings               Banking  United Kingdom  146500.0  19130.0   \n",
              "1  General Electric         Conglomerates   United States  172740.0  22210.0   \n",
              "2   Bank of America               Banking   United States  119190.0  14980.0   \n",
              "3    JPMorgan Chase               Banking   United States  116350.0  15370.0   \n",
              "4        ExxonMobil  Oil & Gas Operations   United States  358600.0  40610.0   \n",
              "\n",
              "      Assets  Market_Value  \n",
              "0  2348980.0      180810.0  \n",
              "1   795340.0      330930.0  \n",
              "2  1715750.0      176530.0  \n",
              "3  1562150.0      136880.0  \n",
              "4   242080.0      465510.0  "
            ],
            "text/html": [
              "\n",
              "  <div id=\"df-6c0c0aaf-4c6e-41ba-b8cc-aa987b07e36c\" class=\"colab-df-container\">\n",
              "    <div>\n",
              "<style scoped>\n",
              "    .dataframe tbody tr th:only-of-type {\n",
              "        vertical-align: middle;\n",
              "    }\n",
              "\n",
              "    .dataframe tbody tr th {\n",
              "        vertical-align: top;\n",
              "    }\n",
              "\n",
              "    .dataframe thead th {\n",
              "        text-align: right;\n",
              "    }\n",
              "</style>\n",
              "<table border=\"1\" class=\"dataframe\">\n",
              "  <thead>\n",
              "    <tr style=\"text-align: right;\">\n",
              "      <th></th>\n",
              "      <th>Company</th>\n",
              "      <th>Industry</th>\n",
              "      <th>Country</th>\n",
              "      <th>Sales</th>\n",
              "      <th>Profits</th>\n",
              "      <th>Assets</th>\n",
              "      <th>Market_Value</th>\n",
              "    </tr>\n",
              "  </thead>\n",
              "  <tbody>\n",
              "    <tr>\n",
              "      <th>0</th>\n",
              "      <td>HSBC Holdings</td>\n",
              "      <td>Banking</td>\n",
              "      <td>United Kingdom</td>\n",
              "      <td>146500.0</td>\n",
              "      <td>19130.0</td>\n",
              "      <td>2348980.0</td>\n",
              "      <td>180810.0</td>\n",
              "    </tr>\n",
              "    <tr>\n",
              "      <th>1</th>\n",
              "      <td>General Electric</td>\n",
              "      <td>Conglomerates</td>\n",
              "      <td>United States</td>\n",
              "      <td>172740.0</td>\n",
              "      <td>22210.0</td>\n",
              "      <td>795340.0</td>\n",
              "      <td>330930.0</td>\n",
              "    </tr>\n",
              "    <tr>\n",
              "      <th>2</th>\n",
              "      <td>Bank of America</td>\n",
              "      <td>Banking</td>\n",
              "      <td>United States</td>\n",
              "      <td>119190.0</td>\n",
              "      <td>14980.0</td>\n",
              "      <td>1715750.0</td>\n",
              "      <td>176530.0</td>\n",
              "    </tr>\n",
              "    <tr>\n",
              "      <th>3</th>\n",
              "      <td>JPMorgan Chase</td>\n",
              "      <td>Banking</td>\n",
              "      <td>United States</td>\n",
              "      <td>116350.0</td>\n",
              "      <td>15370.0</td>\n",
              "      <td>1562150.0</td>\n",
              "      <td>136880.0</td>\n",
              "    </tr>\n",
              "    <tr>\n",
              "      <th>4</th>\n",
              "      <td>ExxonMobil</td>\n",
              "      <td>Oil &amp; Gas Operations</td>\n",
              "      <td>United States</td>\n",
              "      <td>358600.0</td>\n",
              "      <td>40610.0</td>\n",
              "      <td>242080.0</td>\n",
              "      <td>465510.0</td>\n",
              "    </tr>\n",
              "  </tbody>\n",
              "</table>\n",
              "</div>\n",
              "    <div class=\"colab-df-buttons\">\n",
              "\n",
              "  <div class=\"colab-df-container\">\n",
              "    <button class=\"colab-df-convert\" onclick=\"convertToInteractive('df-6c0c0aaf-4c6e-41ba-b8cc-aa987b07e36c')\"\n",
              "            title=\"Convert this dataframe to an interactive table.\"\n",
              "            style=\"display:none;\">\n",
              "\n",
              "  <svg xmlns=\"http://www.w3.org/2000/svg\" height=\"24px\" viewBox=\"0 -960 960 960\">\n",
              "    <path d=\"M120-120v-720h720v720H120Zm60-500h600v-160H180v160Zm220 220h160v-160H400v160Zm0 220h160v-160H400v160ZM180-400h160v-160H180v160Zm440 0h160v-160H620v160ZM180-180h160v-160H180v160Zm440 0h160v-160H620v160Z\"/>\n",
              "  </svg>\n",
              "    </button>\n",
              "\n",
              "  <style>\n",
              "    .colab-df-container {\n",
              "      display:flex;\n",
              "      gap: 12px;\n",
              "    }\n",
              "\n",
              "    .colab-df-convert {\n",
              "      background-color: #E8F0FE;\n",
              "      border: none;\n",
              "      border-radius: 50%;\n",
              "      cursor: pointer;\n",
              "      display: none;\n",
              "      fill: #1967D2;\n",
              "      height: 32px;\n",
              "      padding: 0 0 0 0;\n",
              "      width: 32px;\n",
              "    }\n",
              "\n",
              "    .colab-df-convert:hover {\n",
              "      background-color: #E2EBFA;\n",
              "      box-shadow: 0px 1px 2px rgba(60, 64, 67, 0.3), 0px 1px 3px 1px rgba(60, 64, 67, 0.15);\n",
              "      fill: #174EA6;\n",
              "    }\n",
              "\n",
              "    .colab-df-buttons div {\n",
              "      margin-bottom: 4px;\n",
              "    }\n",
              "\n",
              "    [theme=dark] .colab-df-convert {\n",
              "      background-color: #3B4455;\n",
              "      fill: #D2E3FC;\n",
              "    }\n",
              "\n",
              "    [theme=dark] .colab-df-convert:hover {\n",
              "      background-color: #434B5C;\n",
              "      box-shadow: 0px 1px 3px 1px rgba(0, 0, 0, 0.15);\n",
              "      filter: drop-shadow(0px 1px 2px rgba(0, 0, 0, 0.3));\n",
              "      fill: #FFFFFF;\n",
              "    }\n",
              "  </style>\n",
              "\n",
              "    <script>\n",
              "      const buttonEl =\n",
              "        document.querySelector('#df-6c0c0aaf-4c6e-41ba-b8cc-aa987b07e36c button.colab-df-convert');\n",
              "      buttonEl.style.display =\n",
              "        google.colab.kernel.accessAllowed ? 'block' : 'none';\n",
              "\n",
              "      async function convertToInteractive(key) {\n",
              "        const element = document.querySelector('#df-6c0c0aaf-4c6e-41ba-b8cc-aa987b07e36c');\n",
              "        const dataTable =\n",
              "          await google.colab.kernel.invokeFunction('convertToInteractive',\n",
              "                                                    [key], {});\n",
              "        if (!dataTable) return;\n",
              "\n",
              "        const docLinkHtml = 'Like what you see? Visit the ' +\n",
              "          '<a target=\"_blank\" href=https://colab.research.google.com/notebooks/data_table.ipynb>data table notebook</a>'\n",
              "          + ' to learn more about interactive tables.';\n",
              "        element.innerHTML = '';\n",
              "        dataTable['output_type'] = 'display_data';\n",
              "        await google.colab.output.renderOutput(dataTable, element);\n",
              "        const docLink = document.createElement('div');\n",
              "        docLink.innerHTML = docLinkHtml;\n",
              "        element.appendChild(docLink);\n",
              "      }\n",
              "    </script>\n",
              "  </div>\n",
              "\n",
              "\n",
              "<div id=\"df-df7b2e1b-04c9-4db4-b21a-5d575305a82f\">\n",
              "  <button class=\"colab-df-quickchart\" onclick=\"quickchart('df-df7b2e1b-04c9-4db4-b21a-5d575305a82f')\"\n",
              "            title=\"Suggest charts\"\n",
              "            style=\"display:none;\">\n",
              "\n",
              "<svg xmlns=\"http://www.w3.org/2000/svg\" height=\"24px\"viewBox=\"0 0 24 24\"\n",
              "     width=\"24px\">\n",
              "    <g>\n",
              "        <path d=\"M19 3H5c-1.1 0-2 .9-2 2v14c0 1.1.9 2 2 2h14c1.1 0 2-.9 2-2V5c0-1.1-.9-2-2-2zM9 17H7v-7h2v7zm4 0h-2V7h2v10zm4 0h-2v-4h2v4z\"/>\n",
              "    </g>\n",
              "</svg>\n",
              "  </button>\n",
              "\n",
              "<style>\n",
              "  .colab-df-quickchart {\n",
              "      --bg-color: #E8F0FE;\n",
              "      --fill-color: #1967D2;\n",
              "      --hover-bg-color: #E2EBFA;\n",
              "      --hover-fill-color: #174EA6;\n",
              "      --disabled-fill-color: #AAA;\n",
              "      --disabled-bg-color: #DDD;\n",
              "  }\n",
              "\n",
              "  [theme=dark] .colab-df-quickchart {\n",
              "      --bg-color: #3B4455;\n",
              "      --fill-color: #D2E3FC;\n",
              "      --hover-bg-color: #434B5C;\n",
              "      --hover-fill-color: #FFFFFF;\n",
              "      --disabled-bg-color: #3B4455;\n",
              "      --disabled-fill-color: #666;\n",
              "  }\n",
              "\n",
              "  .colab-df-quickchart {\n",
              "    background-color: var(--bg-color);\n",
              "    border: none;\n",
              "    border-radius: 50%;\n",
              "    cursor: pointer;\n",
              "    display: none;\n",
              "    fill: var(--fill-color);\n",
              "    height: 32px;\n",
              "    padding: 0;\n",
              "    width: 32px;\n",
              "  }\n",
              "\n",
              "  .colab-df-quickchart:hover {\n",
              "    background-color: var(--hover-bg-color);\n",
              "    box-shadow: 0 1px 2px rgba(60, 64, 67, 0.3), 0 1px 3px 1px rgba(60, 64, 67, 0.15);\n",
              "    fill: var(--button-hover-fill-color);\n",
              "  }\n",
              "\n",
              "  .colab-df-quickchart-complete:disabled,\n",
              "  .colab-df-quickchart-complete:disabled:hover {\n",
              "    background-color: var(--disabled-bg-color);\n",
              "    fill: var(--disabled-fill-color);\n",
              "    box-shadow: none;\n",
              "  }\n",
              "\n",
              "  .colab-df-spinner {\n",
              "    border: 2px solid var(--fill-color);\n",
              "    border-color: transparent;\n",
              "    border-bottom-color: var(--fill-color);\n",
              "    animation:\n",
              "      spin 1s steps(1) infinite;\n",
              "  }\n",
              "\n",
              "  @keyframes spin {\n",
              "    0% {\n",
              "      border-color: transparent;\n",
              "      border-bottom-color: var(--fill-color);\n",
              "      border-left-color: var(--fill-color);\n",
              "    }\n",
              "    20% {\n",
              "      border-color: transparent;\n",
              "      border-left-color: var(--fill-color);\n",
              "      border-top-color: var(--fill-color);\n",
              "    }\n",
              "    30% {\n",
              "      border-color: transparent;\n",
              "      border-left-color: var(--fill-color);\n",
              "      border-top-color: var(--fill-color);\n",
              "      border-right-color: var(--fill-color);\n",
              "    }\n",
              "    40% {\n",
              "      border-color: transparent;\n",
              "      border-right-color: var(--fill-color);\n",
              "      border-top-color: var(--fill-color);\n",
              "    }\n",
              "    60% {\n",
              "      border-color: transparent;\n",
              "      border-right-color: var(--fill-color);\n",
              "    }\n",
              "    80% {\n",
              "      border-color: transparent;\n",
              "      border-right-color: var(--fill-color);\n",
              "      border-bottom-color: var(--fill-color);\n",
              "    }\n",
              "    90% {\n",
              "      border-color: transparent;\n",
              "      border-bottom-color: var(--fill-color);\n",
              "    }\n",
              "  }\n",
              "</style>\n",
              "\n",
              "  <script>\n",
              "    async function quickchart(key) {\n",
              "      const quickchartButtonEl =\n",
              "        document.querySelector('#' + key + ' button');\n",
              "      quickchartButtonEl.disabled = true;  // To prevent multiple clicks.\n",
              "      quickchartButtonEl.classList.add('colab-df-spinner');\n",
              "      try {\n",
              "        const charts = await google.colab.kernel.invokeFunction(\n",
              "            'suggestCharts', [key], {});\n",
              "      } catch (error) {\n",
              "        console.error('Error during call to suggestCharts:', error);\n",
              "      }\n",
              "      quickchartButtonEl.classList.remove('colab-df-spinner');\n",
              "      quickchartButtonEl.classList.add('colab-df-quickchart-complete');\n",
              "    }\n",
              "    (() => {\n",
              "      let quickchartButtonEl =\n",
              "        document.querySelector('#df-df7b2e1b-04c9-4db4-b21a-5d575305a82f button');\n",
              "      quickchartButtonEl.style.display =\n",
              "        google.colab.kernel.accessAllowed ? 'block' : 'none';\n",
              "    })();\n",
              "  </script>\n",
              "</div>\n",
              "\n",
              "    </div>\n",
              "  </div>\n"
            ],
            "application/vnd.google.colaboratory.intrinsic+json": {
              "type": "dataframe",
              "variable_name": "df",
              "summary": "{\n  \"name\": \"df\",\n  \"rows\": 2018,\n  \"fields\": [\n    {\n      \"column\": \"Company\",\n      \"properties\": {\n        \"dtype\": \"string\",\n        \"num_unique_values\": 1983,\n        \"samples\": [\n          \"Unum Group\",\n          \"St Galler Kantonalbank\",\n          \"Hokuhoku Finl Group\"\n        ],\n        \"semantic_type\": \"\",\n        \"description\": \"\"\n      }\n    },\n    {\n      \"column\": \"Industry\",\n      \"properties\": {\n        \"dtype\": \"category\",\n        \"num_unique_values\": 26,\n        \"samples\": [\n          \"Retailing\",\n          \"Media\",\n          \"Banking\"\n        ],\n        \"semantic_type\": \"\",\n        \"description\": \"\"\n      }\n    },\n    {\n      \"column\": \"Country\",\n      \"properties\": {\n        \"dtype\": \"category\",\n        \"num_unique_values\": 66,\n        \"samples\": [\n          \"United Kingdom/South Africa\",\n          \"Colombia\",\n          \"United Kingdom\"\n        ],\n        \"semantic_type\": \"\",\n        \"description\": \"\"\n      }\n    },\n    {\n      \"column\": \"Sales\",\n      \"properties\": {\n        \"dtype\": \"number\",\n        \"std\": 27236.610957468343,\n        \"min\": -4190.0,\n        \"max\": 378800.0,\n        \"num_unique_values\": 1352,\n        \"samples\": [\n          55530.0,\n          8450.0,\n          880.0\n        ],\n        \"semantic_type\": \"\",\n        \"description\": \"\"\n      }\n    },\n    {\n      \"column\": \"Profits\",\n      \"properties\": {\n        \"dtype\": \"number\",\n        \"std\": 2783.8637582819733,\n        \"min\": -38730.0,\n        \"max\": 40610.0,\n        \"num_unique_values\": 496,\n        \"samples\": [\n          -2260.0,\n          10260.0,\n          2860.0\n        ],\n        \"semantic_type\": \"\",\n        \"description\": \"\"\n      }\n    },\n    {\n      \"column\": \"Assets\",\n      \"properties\": {\n        \"dtype\": \"number\",\n        \"std\": 212970.39688489382,\n        \"min\": 50.0,\n        \"max\": 3807510.0,\n        \"num_unique_values\": 1590,\n        \"samples\": [\n          46750.0,\n          30730.0,\n          20920.0\n        ],\n        \"semantic_type\": \"\",\n        \"description\": \"\"\n      }\n    },\n    {\n      \"column\": \"Market_Value\",\n      \"properties\": {\n        \"dtype\": \"number\",\n        \"std\": 34791.78480102629,\n        \"min\": 80.0,\n        \"max\": 546140.0,\n        \"num_unique_values\": 1456,\n        \"samples\": [\n          24460.0,\n          5670.0,\n          29930.0\n        ],\n        \"semantic_type\": \"\",\n        \"description\": \"\"\n      }\n    }\n  ]\n}"
            }
          },
          "metadata": {},
          "execution_count": 145
        }
      ]
    },
    {
      "cell_type": "code",
      "source": [
        "df.info()"
      ],
      "metadata": {
        "colab": {
          "base_uri": "https://localhost:8080/"
        },
        "id": "iZLqXcf1tpxm",
        "outputId": "01b7e87a-449f-42e9-e97b-3618dd91a8b2"
      },
      "execution_count": 146,
      "outputs": [
        {
          "output_type": "stream",
          "name": "stdout",
          "text": [
            "<class 'pandas.core.frame.DataFrame'>\n",
            "RangeIndex: 2018 entries, 0 to 2017\n",
            "Data columns (total 7 columns):\n",
            " #   Column        Non-Null Count  Dtype  \n",
            "---  ------        --------------  -----  \n",
            " 0   Company       1983 non-null   object \n",
            " 1   Industry      1992 non-null   object \n",
            " 2   Country       1985 non-null   object \n",
            " 3   Sales         1989 non-null   float64\n",
            " 4   Profits       1981 non-null   float64\n",
            " 5   Assets        1974 non-null   float64\n",
            " 6   Market_Value  1987 non-null   float64\n",
            "dtypes: float64(4), object(3)\n",
            "memory usage: 110.5+ KB\n"
          ]
        }
      ]
    },
    {
      "cell_type": "code",
      "source": [
        "df.describe()"
      ],
      "metadata": {
        "colab": {
          "base_uri": "https://localhost:8080/",
          "height": 300
        },
        "id": "KBH7l-DqttRC",
        "outputId": "eec55fa7-de7c-4bdb-e0dd-6d2f995e9361"
      },
      "execution_count": 147,
      "outputs": [
        {
          "output_type": "execute_result",
          "data": {
            "text/plain": [
              "               Sales       Profits        Assets   Market_Value\n",
              "count    1989.000000   1981.000000  1.974000e+03    1987.000000\n",
              "mean    14798.411262   1181.635538  6.015056e+04   19383.090086\n",
              "std     27236.610957   2783.863758  2.129704e+05   34791.784801\n",
              "min     -4190.000000 -38730.000000  5.000000e+01      80.000000\n",
              "25%      3120.000000    270.000000  6.480000e+03    4615.000000\n",
              "50%      6780.000000    530.000000  1.401500e+04    9050.000000\n",
              "75%     14150.000000   1200.000000  3.241750e+04   19200.000000\n",
              "max    378800.000000  40610.000000  3.807510e+06  546140.000000"
            ],
            "text/html": [
              "\n",
              "  <div id=\"df-9b40337e-6be7-4de5-9a49-17bfd0c48d88\" class=\"colab-df-container\">\n",
              "    <div>\n",
              "<style scoped>\n",
              "    .dataframe tbody tr th:only-of-type {\n",
              "        vertical-align: middle;\n",
              "    }\n",
              "\n",
              "    .dataframe tbody tr th {\n",
              "        vertical-align: top;\n",
              "    }\n",
              "\n",
              "    .dataframe thead th {\n",
              "        text-align: right;\n",
              "    }\n",
              "</style>\n",
              "<table border=\"1\" class=\"dataframe\">\n",
              "  <thead>\n",
              "    <tr style=\"text-align: right;\">\n",
              "      <th></th>\n",
              "      <th>Sales</th>\n",
              "      <th>Profits</th>\n",
              "      <th>Assets</th>\n",
              "      <th>Market_Value</th>\n",
              "    </tr>\n",
              "  </thead>\n",
              "  <tbody>\n",
              "    <tr>\n",
              "      <th>count</th>\n",
              "      <td>1989.000000</td>\n",
              "      <td>1981.000000</td>\n",
              "      <td>1.974000e+03</td>\n",
              "      <td>1987.000000</td>\n",
              "    </tr>\n",
              "    <tr>\n",
              "      <th>mean</th>\n",
              "      <td>14798.411262</td>\n",
              "      <td>1181.635538</td>\n",
              "      <td>6.015056e+04</td>\n",
              "      <td>19383.090086</td>\n",
              "    </tr>\n",
              "    <tr>\n",
              "      <th>std</th>\n",
              "      <td>27236.610957</td>\n",
              "      <td>2783.863758</td>\n",
              "      <td>2.129704e+05</td>\n",
              "      <td>34791.784801</td>\n",
              "    </tr>\n",
              "    <tr>\n",
              "      <th>min</th>\n",
              "      <td>-4190.000000</td>\n",
              "      <td>-38730.000000</td>\n",
              "      <td>5.000000e+01</td>\n",
              "      <td>80.000000</td>\n",
              "    </tr>\n",
              "    <tr>\n",
              "      <th>25%</th>\n",
              "      <td>3120.000000</td>\n",
              "      <td>270.000000</td>\n",
              "      <td>6.480000e+03</td>\n",
              "      <td>4615.000000</td>\n",
              "    </tr>\n",
              "    <tr>\n",
              "      <th>50%</th>\n",
              "      <td>6780.000000</td>\n",
              "      <td>530.000000</td>\n",
              "      <td>1.401500e+04</td>\n",
              "      <td>9050.000000</td>\n",
              "    </tr>\n",
              "    <tr>\n",
              "      <th>75%</th>\n",
              "      <td>14150.000000</td>\n",
              "      <td>1200.000000</td>\n",
              "      <td>3.241750e+04</td>\n",
              "      <td>19200.000000</td>\n",
              "    </tr>\n",
              "    <tr>\n",
              "      <th>max</th>\n",
              "      <td>378800.000000</td>\n",
              "      <td>40610.000000</td>\n",
              "      <td>3.807510e+06</td>\n",
              "      <td>546140.000000</td>\n",
              "    </tr>\n",
              "  </tbody>\n",
              "</table>\n",
              "</div>\n",
              "    <div class=\"colab-df-buttons\">\n",
              "\n",
              "  <div class=\"colab-df-container\">\n",
              "    <button class=\"colab-df-convert\" onclick=\"convertToInteractive('df-9b40337e-6be7-4de5-9a49-17bfd0c48d88')\"\n",
              "            title=\"Convert this dataframe to an interactive table.\"\n",
              "            style=\"display:none;\">\n",
              "\n",
              "  <svg xmlns=\"http://www.w3.org/2000/svg\" height=\"24px\" viewBox=\"0 -960 960 960\">\n",
              "    <path d=\"M120-120v-720h720v720H120Zm60-500h600v-160H180v160Zm220 220h160v-160H400v160Zm0 220h160v-160H400v160ZM180-400h160v-160H180v160Zm440 0h160v-160H620v160ZM180-180h160v-160H180v160Zm440 0h160v-160H620v160Z\"/>\n",
              "  </svg>\n",
              "    </button>\n",
              "\n",
              "  <style>\n",
              "    .colab-df-container {\n",
              "      display:flex;\n",
              "      gap: 12px;\n",
              "    }\n",
              "\n",
              "    .colab-df-convert {\n",
              "      background-color: #E8F0FE;\n",
              "      border: none;\n",
              "      border-radius: 50%;\n",
              "      cursor: pointer;\n",
              "      display: none;\n",
              "      fill: #1967D2;\n",
              "      height: 32px;\n",
              "      padding: 0 0 0 0;\n",
              "      width: 32px;\n",
              "    }\n",
              "\n",
              "    .colab-df-convert:hover {\n",
              "      background-color: #E2EBFA;\n",
              "      box-shadow: 0px 1px 2px rgba(60, 64, 67, 0.3), 0px 1px 3px 1px rgba(60, 64, 67, 0.15);\n",
              "      fill: #174EA6;\n",
              "    }\n",
              "\n",
              "    .colab-df-buttons div {\n",
              "      margin-bottom: 4px;\n",
              "    }\n",
              "\n",
              "    [theme=dark] .colab-df-convert {\n",
              "      background-color: #3B4455;\n",
              "      fill: #D2E3FC;\n",
              "    }\n",
              "\n",
              "    [theme=dark] .colab-df-convert:hover {\n",
              "      background-color: #434B5C;\n",
              "      box-shadow: 0px 1px 3px 1px rgba(0, 0, 0, 0.15);\n",
              "      filter: drop-shadow(0px 1px 2px rgba(0, 0, 0, 0.3));\n",
              "      fill: #FFFFFF;\n",
              "    }\n",
              "  </style>\n",
              "\n",
              "    <script>\n",
              "      const buttonEl =\n",
              "        document.querySelector('#df-9b40337e-6be7-4de5-9a49-17bfd0c48d88 button.colab-df-convert');\n",
              "      buttonEl.style.display =\n",
              "        google.colab.kernel.accessAllowed ? 'block' : 'none';\n",
              "\n",
              "      async function convertToInteractive(key) {\n",
              "        const element = document.querySelector('#df-9b40337e-6be7-4de5-9a49-17bfd0c48d88');\n",
              "        const dataTable =\n",
              "          await google.colab.kernel.invokeFunction('convertToInteractive',\n",
              "                                                    [key], {});\n",
              "        if (!dataTable) return;\n",
              "\n",
              "        const docLinkHtml = 'Like what you see? Visit the ' +\n",
              "          '<a target=\"_blank\" href=https://colab.research.google.com/notebooks/data_table.ipynb>data table notebook</a>'\n",
              "          + ' to learn more about interactive tables.';\n",
              "        element.innerHTML = '';\n",
              "        dataTable['output_type'] = 'display_data';\n",
              "        await google.colab.output.renderOutput(dataTable, element);\n",
              "        const docLink = document.createElement('div');\n",
              "        docLink.innerHTML = docLinkHtml;\n",
              "        element.appendChild(docLink);\n",
              "      }\n",
              "    </script>\n",
              "  </div>\n",
              "\n",
              "\n",
              "<div id=\"df-be25a0eb-00d8-4596-87cf-4686c99eff9b\">\n",
              "  <button class=\"colab-df-quickchart\" onclick=\"quickchart('df-be25a0eb-00d8-4596-87cf-4686c99eff9b')\"\n",
              "            title=\"Suggest charts\"\n",
              "            style=\"display:none;\">\n",
              "\n",
              "<svg xmlns=\"http://www.w3.org/2000/svg\" height=\"24px\"viewBox=\"0 0 24 24\"\n",
              "     width=\"24px\">\n",
              "    <g>\n",
              "        <path d=\"M19 3H5c-1.1 0-2 .9-2 2v14c0 1.1.9 2 2 2h14c1.1 0 2-.9 2-2V5c0-1.1-.9-2-2-2zM9 17H7v-7h2v7zm4 0h-2V7h2v10zm4 0h-2v-4h2v4z\"/>\n",
              "    </g>\n",
              "</svg>\n",
              "  </button>\n",
              "\n",
              "<style>\n",
              "  .colab-df-quickchart {\n",
              "      --bg-color: #E8F0FE;\n",
              "      --fill-color: #1967D2;\n",
              "      --hover-bg-color: #E2EBFA;\n",
              "      --hover-fill-color: #174EA6;\n",
              "      --disabled-fill-color: #AAA;\n",
              "      --disabled-bg-color: #DDD;\n",
              "  }\n",
              "\n",
              "  [theme=dark] .colab-df-quickchart {\n",
              "      --bg-color: #3B4455;\n",
              "      --fill-color: #D2E3FC;\n",
              "      --hover-bg-color: #434B5C;\n",
              "      --hover-fill-color: #FFFFFF;\n",
              "      --disabled-bg-color: #3B4455;\n",
              "      --disabled-fill-color: #666;\n",
              "  }\n",
              "\n",
              "  .colab-df-quickchart {\n",
              "    background-color: var(--bg-color);\n",
              "    border: none;\n",
              "    border-radius: 50%;\n",
              "    cursor: pointer;\n",
              "    display: none;\n",
              "    fill: var(--fill-color);\n",
              "    height: 32px;\n",
              "    padding: 0;\n",
              "    width: 32px;\n",
              "  }\n",
              "\n",
              "  .colab-df-quickchart:hover {\n",
              "    background-color: var(--hover-bg-color);\n",
              "    box-shadow: 0 1px 2px rgba(60, 64, 67, 0.3), 0 1px 3px 1px rgba(60, 64, 67, 0.15);\n",
              "    fill: var(--button-hover-fill-color);\n",
              "  }\n",
              "\n",
              "  .colab-df-quickchart-complete:disabled,\n",
              "  .colab-df-quickchart-complete:disabled:hover {\n",
              "    background-color: var(--disabled-bg-color);\n",
              "    fill: var(--disabled-fill-color);\n",
              "    box-shadow: none;\n",
              "  }\n",
              "\n",
              "  .colab-df-spinner {\n",
              "    border: 2px solid var(--fill-color);\n",
              "    border-color: transparent;\n",
              "    border-bottom-color: var(--fill-color);\n",
              "    animation:\n",
              "      spin 1s steps(1) infinite;\n",
              "  }\n",
              "\n",
              "  @keyframes spin {\n",
              "    0% {\n",
              "      border-color: transparent;\n",
              "      border-bottom-color: var(--fill-color);\n",
              "      border-left-color: var(--fill-color);\n",
              "    }\n",
              "    20% {\n",
              "      border-color: transparent;\n",
              "      border-left-color: var(--fill-color);\n",
              "      border-top-color: var(--fill-color);\n",
              "    }\n",
              "    30% {\n",
              "      border-color: transparent;\n",
              "      border-left-color: var(--fill-color);\n",
              "      border-top-color: var(--fill-color);\n",
              "      border-right-color: var(--fill-color);\n",
              "    }\n",
              "    40% {\n",
              "      border-color: transparent;\n",
              "      border-right-color: var(--fill-color);\n",
              "      border-top-color: var(--fill-color);\n",
              "    }\n",
              "    60% {\n",
              "      border-color: transparent;\n",
              "      border-right-color: var(--fill-color);\n",
              "    }\n",
              "    80% {\n",
              "      border-color: transparent;\n",
              "      border-right-color: var(--fill-color);\n",
              "      border-bottom-color: var(--fill-color);\n",
              "    }\n",
              "    90% {\n",
              "      border-color: transparent;\n",
              "      border-bottom-color: var(--fill-color);\n",
              "    }\n",
              "  }\n",
              "</style>\n",
              "\n",
              "  <script>\n",
              "    async function quickchart(key) {\n",
              "      const quickchartButtonEl =\n",
              "        document.querySelector('#' + key + ' button');\n",
              "      quickchartButtonEl.disabled = true;  // To prevent multiple clicks.\n",
              "      quickchartButtonEl.classList.add('colab-df-spinner');\n",
              "      try {\n",
              "        const charts = await google.colab.kernel.invokeFunction(\n",
              "            'suggestCharts', [key], {});\n",
              "      } catch (error) {\n",
              "        console.error('Error during call to suggestCharts:', error);\n",
              "      }\n",
              "      quickchartButtonEl.classList.remove('colab-df-spinner');\n",
              "      quickchartButtonEl.classList.add('colab-df-quickchart-complete');\n",
              "    }\n",
              "    (() => {\n",
              "      let quickchartButtonEl =\n",
              "        document.querySelector('#df-be25a0eb-00d8-4596-87cf-4686c99eff9b button');\n",
              "      quickchartButtonEl.style.display =\n",
              "        google.colab.kernel.accessAllowed ? 'block' : 'none';\n",
              "    })();\n",
              "  </script>\n",
              "</div>\n",
              "\n",
              "    </div>\n",
              "  </div>\n"
            ],
            "application/vnd.google.colaboratory.intrinsic+json": {
              "type": "dataframe",
              "summary": "{\n  \"name\": \"df\",\n  \"rows\": 8,\n  \"fields\": [\n    {\n      \"column\": \"Sales\",\n      \"properties\": {\n        \"dtype\": \"number\",\n        \"std\": 131056.99988515451,\n        \"min\": -4190.0,\n        \"max\": 378800.0,\n        \"num_unique_values\": 8,\n        \"samples\": [\n          14798.411261940673,\n          6780.0,\n          1989.0\n        ],\n        \"semantic_type\": \"\",\n        \"description\": \"\"\n      }\n    },\n    {\n      \"column\": \"Profits\",\n      \"properties\": {\n        \"dtype\": \"number\",\n        \"std\": 21219.867072146255,\n        \"min\": -38730.0,\n        \"max\": 40610.0,\n        \"num_unique_values\": 8,\n        \"samples\": [\n          1181.635537607269,\n          530.0,\n          1981.0\n        ],\n        \"semantic_type\": \"\",\n        \"description\": \"\"\n      }\n    },\n    {\n      \"column\": \"Assets\",\n      \"properties\": {\n        \"dtype\": \"number\",\n        \"std\": 1331461.887912085,\n        \"min\": 50.0,\n        \"max\": 3807510.0,\n        \"num_unique_values\": 8,\n        \"samples\": [\n          60150.55724417426,\n          14015.0,\n          1974.0\n        ],\n        \"semantic_type\": \"\",\n        \"description\": \"\"\n      }\n    },\n    {\n      \"column\": \"Market_Value\",\n      \"properties\": {\n        \"dtype\": \"number\",\n        \"std\": 188940.10515741282,\n        \"min\": 80.0,\n        \"max\": 546140.0,\n        \"num_unique_values\": 8,\n        \"samples\": [\n          19383.090085556116,\n          9050.0,\n          1987.0\n        ],\n        \"semantic_type\": \"\",\n        \"description\": \"\"\n      }\n    }\n  ]\n}"
            }
          },
          "metadata": {},
          "execution_count": 147
        }
      ]
    },
    {
      "cell_type": "code",
      "source": [
        "df.isnull().sum()"
      ],
      "metadata": {
        "colab": {
          "base_uri": "https://localhost:8080/"
        },
        "id": "m80iP-vstzYc",
        "outputId": "e68331f6-7212-483e-f595-695b82e160ba"
      },
      "execution_count": 148,
      "outputs": [
        {
          "output_type": "execute_result",
          "data": {
            "text/plain": [
              "Company         35\n",
              "Industry        26\n",
              "Country         33\n",
              "Sales           29\n",
              "Profits         37\n",
              "Assets          44\n",
              "Market_Value    31\n",
              "dtype: int64"
            ]
          },
          "metadata": {},
          "execution_count": 148
        }
      ]
    },
    {
      "cell_type": "code",
      "source": [
        "# Checking for unique values in categorical columns\n",
        "for col in df.select_dtypes(include=['object']).columns:\n",
        "    print(col, df[col].nunique())"
      ],
      "metadata": {
        "colab": {
          "base_uri": "https://localhost:8080/"
        },
        "id": "x7uOJoAFu5xA",
        "outputId": "dfc394e2-6258-46bf-a5e6-8eb8b611b59b"
      },
      "execution_count": 149,
      "outputs": [
        {
          "output_type": "stream",
          "name": "stdout",
          "text": [
            "Company 1983\n",
            "Industry 26\n",
            "Country 66\n"
          ]
        }
      ]
    },
    {
      "cell_type": "code",
      "source": [
        "# Visualize of distribution of the target variable\n",
        "sns.histplot(df['Market_Value'])\n",
        "plt.title('Distribution of Market Value')\n",
        "plt.show()"
      ],
      "metadata": {
        "colab": {
          "base_uri": "https://localhost:8080/",
          "height": 472
        },
        "id": "WhH4ePtPu9mm",
        "outputId": "d2994667-2dd8-48b7-cf22-5a6f7dafa830"
      },
      "execution_count": 150,
      "outputs": [
        {
          "output_type": "display_data",
          "data": {
            "text/plain": [
              "<Figure size 640x480 with 1 Axes>"
            ],
            "image/png": "[encoded data removed]"
          },
          "metadata": {}
        }
      ]
    },
    {
      "cell_type": "code",
      "source": [
        "# Data preparation\n",
        "# Missing values for numeric columns\n",
        "numeric_columns = df.select_dtypes(include=[np.number]).columns\n",
        "df[numeric_columns] = df[numeric_columns].fillna(df[numeric_columns].mean())\n"
      ],
      "metadata": {
        "id": "xwXcb8mWvQ4-"
      },
      "execution_count": 151,
      "outputs": []
    },
    {
      "cell_type": "code",
      "source": [
        "# Encoding categorical variables\n",
        "le = LabelEncoder()\n",
        "for col in df.select_dtypes(include=['object']).columns:\n",
        "    df[col] = le.fit_transform(df[col])"
      ],
      "metadata": {
        "id": "BvhYRgUTvkRD"
      },
      "execution_count": 152,
      "outputs": []
    },
    {
      "cell_type": "code",
      "source": [
        "# Spliting the data into features and target variable\n",
        "X = df.drop('Market_Value', axis=1)\n",
        "y = df['Market_Value']"
      ],
      "metadata": {
        "id": "ZM639kR5vnN3"
      },
      "execution_count": 153,
      "outputs": []
    },
    {
      "cell_type": "code",
      "source": [
        "# Creating binary class labels based on market value\n",
        "median_market_value = df['Market_Value'].median()\n",
        "y_binary = (y > median_market_value).astype(int)"
      ],
      "metadata": {
        "id": "GhCFTZ16vrlU"
      },
      "execution_count": 154,
      "outputs": []
    },
    {
      "cell_type": "code",
      "source": [
        "# Ploting count of samples in each class\n",
        "plt.figure(figsize=(8, 6))\n",
        "sns.countplot(x=y_binary)\n",
        "plt.title('Count of Samples in Each Class')\n",
        "plt.xlabel('Class')\n",
        "plt.ylabel('Count')\n",
        "plt.xticks([0, 1], ['Low', 'High'])\n",
        "plt.show()\n"
      ],
      "metadata": {
        "colab": {
          "base_uri": "https://localhost:8080/",
          "height": 564
        },
        "id": "7_23PxZ6xShk",
        "outputId": "82090f55-b820-46b3-ad66-1c8e5e9c55bb"
      },
      "execution_count": 155,
      "outputs": [
        {
          "output_type": "display_data",
          "data": {
            "text/plain": [
              "<Figure size 800x600 with 1 Axes>"
            ],
            "image/png": "[encoded data removed]"
          },
          "metadata": {}
        }
      ]
    },
    {
      "cell_type": "code",
      "source": [
        "# Clear session\n",
        "tf.keras.backend.clear_session()"
      ],
      "metadata": {
        "id": "79Zex39B05pB"
      },
      "execution_count": 156,
      "outputs": []
    },
    {
      "cell_type": "code",
      "source": [
        "# Spliting the data into training, validation, and test sets\n",
        "X_train, X_temp, y_train, y_temp = train_test_split(X, y_binary, test_size=0.3, random_state=42)\n",
        "X_val, X_test, y_val, y_test = train_test_split(X_temp, y_temp, test_size=0.5, random_state=42)"
      ],
      "metadata": {
        "id": "dhX-iEFTvwpR"
      },
      "execution_count": 157,
      "outputs": []
    },
    {
      "cell_type": "code",
      "source": [
        "# Standardize features\n",
        "scaler = StandardScaler()\n",
        "X_train_scaled = scaler.fit_transform(X_train)\n",
        "X_val_scaled = scaler.transform(X_val)\n",
        "X_test_scaled = scaler.transform(X_test)"
      ],
      "metadata": {
        "id": "pIlPwo17vzkP"
      },
      "execution_count": 158,
      "outputs": []
    },
    {
      "cell_type": "code",
      "source": [
        "# Shape of datasets\n",
        "print(\"Shape of X_train:\", X_train_scaled.shape)\n",
        "print(\"Shape of y_train:\", y_train.shape)\n",
        "print(\"Shape of X_val:\", X_val_scaled.shape)\n",
        "print(\"Shape of y_val:\", y_val.shape)\n",
        "print(\"Shape of X_test:\", X_test_scaled.shape)\n",
        "print(\"Shape of y_test:\", y_test.shape)\n"
      ],
      "metadata": {
        "colab": {
          "base_uri": "https://localhost:8080/"
        },
        "id": "sMt4HF1awblJ",
        "outputId": "68f846da-2171-4cad-8509-8193b21839a4"
      },
      "execution_count": 159,
      "outputs": [
        {
          "output_type": "stream",
          "name": "stdout",
          "text": [
            "Shape of X_train: (1412, 6)\n",
            "Shape of y_train: (1412,)\n",
            "Shape of X_val: (303, 6)\n",
            "Shape of y_val: (303,)\n",
            "Shape of X_test: (303, 6)\n",
            "Shape of y_test: (303,)\n"
          ]
        }
      ]
    },
    {
      "cell_type": "markdown",
      "source": [
        "I began a deep learning model with a modified architecture. This model consists\n",
        "of three dense layers, each followed by a dropout layer to prevent overfitting.\n",
        "The input layer comprises 32 neurons activated by the ReLU function, followed by another\n",
        "hidden layer of the same size and activation function. The output layer consists of a single neuron\n",
        "with a sigmoid activation function, suitable for binary classification tasks. This architecture was\n",
        "chosen based on experimentation with various configurations, including different numbers of neurons,batch size,\n",
        "epochs, activation functions, and layer structures."
      ],
      "metadata": {
        "id": "YfN-lH6zrfco"
      }
    },
    {
      "cell_type": "code",
      "source": [
        "# Building the deep learning model with modified architecture\n",
        "model = Sequential([\n",
        "    Dense(32, activation='relu', input_shape=(X_train_scaled.shape[1],)),\n",
        "    Dropout(0.5),\n",
        "    Dense(32, activation='relu'),\n",
        "    Dropout(0.5),\n",
        "    Dense(1, activation='sigmoid')\n",
        "])"
      ],
      "metadata": {
        "id": "lAHlnqmYv4pO"
      },
      "execution_count": 160,
      "outputs": []
    },
    {
      "cell_type": "markdown",
      "source": [
        "After defining the model architecture, I compiled it using the Adam optimizer with a lower\n",
        "learning rate of 0.001 and binary cross-entropy loss, along with accuracy as the evaluation metric.\n",
        "This setup was selected to facilitate better convergence and optimization during training."
      ],
      "metadata": {
        "id": "CG8Vb6IurjXp"
      }
    },
    {
      "cell_type": "code",
      "source": [
        "# Compiling the model with a lower learning rate\n",
        "optimizer = Adam(learning_rate=0.001)\n",
        "model.compile(optimizer=optimizer, loss='binary_crossentropy', metrics=['accuracy'])\n",
        "\n",
        "model.summary()"
      ],
      "metadata": {
        "colab": {
          "base_uri": "https://localhost:8080/"
        },
        "id": "CWx5g-sIA5nI",
        "outputId": "aecd9f17-6307-43ab-841f-47f8f110967b"
      },
      "execution_count": 161,
      "outputs": [
        {
          "output_type": "stream",
          "name": "stdout",
          "text": [
            "Model: \"sequential\"\n",
            "_________________________________________________________________\n",
            " Layer (type)                Output Shape              Param #   \n",
            "=================================================================\n",
            " dense (Dense)               (None, 32)                224       \n",
            "                                                                 \n",
            " dropout (Dropout)           (None, 32)                0         \n",
            "                                                                 \n",
            " dense_1 (Dense)             (None, 32)                1056      \n",
            "                                                                 \n",
            " dropout_1 (Dropout)         (None, 32)                0         \n",
            "                                                                 \n",
            " dense_2 (Dense)             (None, 1)                 33        \n",
            "                                                                 \n",
            "=================================================================\n",
            "Total params: 1313 (5.13 KB)\n",
            "Trainable params: 1313 (5.13 KB)\n",
            "Non-trainable params: 0 (0.00 Byte)\n",
            "_________________________________________________________________\n"
          ]
        }
      ]
    },
    {
      "cell_type": "markdown",
      "source": [
        "To prevent overfitting and monitor the model's performance during training,\n",
        "I implemented early stopping with a patience of 5 epochs, restoring the best weights based on validation loss.\n",
        "This technique helps avoid unnecessary training epochs and ensures that the model generalizes well to unseen data."
      ],
      "metadata": {
        "id": "rP1jA8FfrmyJ"
      }
    },
    {
      "cell_type": "code",
      "source": [
        "# Early stopping\n",
        "early_stopping = EarlyStopping(monitor='val_loss', patience=5, restore_best_weights=True)"
      ],
      "metadata": {
        "id": "ZnXXovg0BGNG"
      },
      "execution_count": 162,
      "outputs": []
    },
    {
      "cell_type": "markdown",
      "source": [
        "I then trained the model on the training data for a maximum of 30 epochs, using a batch size of 32 samples.\n",
        "The validation data provided insights into the model's performance on unseen data during training,\n",
        "guiding the early stopping mechanism."
      ],
      "metadata": {
        "id": "G0r7j_SnrpZD"
      }
    },
    {
      "cell_type": "code",
      "source": [
        "# Training the model\n",
        "history = model.fit(X_train_scaled, y_train, epochs=30, batch_size=32,\n",
        "                    validation_data=(X_val_scaled, y_val), callbacks=[early_stopping])"
      ],
      "metadata": {
        "colab": {
          "base_uri": "https://localhost:8080/"
        },
        "id": "Klw5mWksBPx4",
        "outputId": "b097e086-1417-4e9f-f575-979133b7ac16"
      },
      "execution_count": 163,
      "outputs": [
        {
          "output_type": "stream",
          "name": "stdout",
          "text": [
            "Epoch 1/30\n",
            "45/45 [==============================] - 2s 10ms/step - loss: 0.7015 - accuracy: 0.5347 - val_loss: 0.6633 - val_accuracy: 0.6238\n",
            "Epoch 2/30\n",
            "45/45 [==============================] - 0s 5ms/step - loss: 0.6686 - accuracy: 0.5659 - val_loss: 0.6470 - val_accuracy: 0.6535\n",
            "Epoch 3/30\n",
            "45/45 [==============================] - 0s 5ms/step - loss: 0.6435 - accuracy: 0.6091 - val_loss: 0.6319 - val_accuracy: 0.6634\n",
            "Epoch 4/30\n",
            "45/45 [==============================] - 0s 5ms/step - loss: 0.6367 - accuracy: 0.6232 - val_loss: 0.6191 - val_accuracy: 0.6832\n",
            "Epoch 5/30\n",
            "45/45 [==============================] - 0s 5ms/step - loss: 0.6215 - accuracy: 0.6324 - val_loss: 0.6021 - val_accuracy: 0.6865\n",
            "Epoch 6/30\n",
            "45/45 [==============================] - 0s 6ms/step - loss: 0.6098 - accuracy: 0.6537 - val_loss: 0.5857 - val_accuracy: 0.6832\n",
            "Epoch 7/30\n",
            "45/45 [==============================] - 0s 5ms/step - loss: 0.5991 - accuracy: 0.6565 - val_loss: 0.5728 - val_accuracy: 0.6799\n",
            "Epoch 8/30\n",
            "45/45 [==============================] - 0s 5ms/step - loss: 0.5930 - accuracy: 0.6827 - val_loss: 0.5612 - val_accuracy: 0.6964\n",
            "Epoch 9/30\n",
            "45/45 [==============================] - 0s 5ms/step - loss: 0.5678 - accuracy: 0.7146 - val_loss: 0.5494 - val_accuracy: 0.7195\n",
            "Epoch 10/30\n",
            "45/45 [==============================] - 0s 5ms/step - loss: 0.5544 - accuracy: 0.7061 - val_loss: 0.5392 - val_accuracy: 0.7294\n",
            "Epoch 11/30\n",
            "45/45 [==============================] - 0s 6ms/step - loss: 0.5500 - accuracy: 0.7210 - val_loss: 0.5299 - val_accuracy: 0.7393\n",
            "Epoch 12/30\n",
            "45/45 [==============================] - 0s 5ms/step - loss: 0.5348 - accuracy: 0.7245 - val_loss: 0.5214 - val_accuracy: 0.7393\n",
            "Epoch 13/30\n",
            "45/45 [==============================] - 0s 5ms/step - loss: 0.5479 - accuracy: 0.7188 - val_loss: 0.5137 - val_accuracy: 0.7426\n",
            "Epoch 14/30\n",
            "45/45 [==============================] - 0s 5ms/step - loss: 0.5271 - accuracy: 0.7408 - val_loss: 0.5089 - val_accuracy: 0.7492\n",
            "Epoch 15/30\n",
            "45/45 [==============================] - 0s 5ms/step - loss: 0.5288 - accuracy: 0.7344 - val_loss: 0.5073 - val_accuracy: 0.7591\n",
            "Epoch 16/30\n",
            "45/45 [==============================] - 0s 5ms/step - loss: 0.5210 - accuracy: 0.7557 - val_loss: 0.5021 - val_accuracy: 0.7558\n",
            "Epoch 17/30\n",
            "45/45 [==============================] - 0s 5ms/step - loss: 0.5134 - accuracy: 0.7592 - val_loss: 0.5007 - val_accuracy: 0.7624\n",
            "Epoch 18/30\n",
            "45/45 [==============================] - 0s 5ms/step - loss: 0.5095 - accuracy: 0.7585 - val_loss: 0.4968 - val_accuracy: 0.7624\n",
            "Epoch 19/30\n",
            "45/45 [==============================] - 0s 5ms/step - loss: 0.5061 - accuracy: 0.7642 - val_loss: 0.4940 - val_accuracy: 0.7624\n",
            "Epoch 20/30\n",
            "45/45 [==============================] - 0s 5ms/step - loss: 0.5006 - accuracy: 0.7642 - val_loss: 0.4920 - val_accuracy: 0.7657\n",
            "Epoch 21/30\n",
            "45/45 [==============================] - 0s 5ms/step - loss: 0.5122 - accuracy: 0.7535 - val_loss: 0.4912 - val_accuracy: 0.7657\n",
            "Epoch 22/30\n",
            "45/45 [==============================] - 0s 5ms/step - loss: 0.4961 - accuracy: 0.7712 - val_loss: 0.4923 - val_accuracy: 0.7690\n",
            "Epoch 23/30\n",
            "45/45 [==============================] - 0s 5ms/step - loss: 0.5017 - accuracy: 0.7712 - val_loss: 0.4898 - val_accuracy: 0.7723\n",
            "Epoch 24/30\n",
            "45/45 [==============================] - 0s 5ms/step - loss: 0.5018 - accuracy: 0.7741 - val_loss: 0.4872 - val_accuracy: 0.7690\n",
            "Epoch 25/30\n",
            "45/45 [==============================] - 0s 5ms/step - loss: 0.4922 - accuracy: 0.7741 - val_loss: 0.4880 - val_accuracy: 0.7690\n",
            "Epoch 26/30\n",
            "45/45 [==============================] - 0s 5ms/step - loss: 0.4839 - accuracy: 0.7755 - val_loss: 0.4887 - val_accuracy: 0.7690\n",
            "Epoch 27/30\n",
            "45/45 [==============================] - 0s 6ms/step - loss: 0.4839 - accuracy: 0.7769 - val_loss: 0.4869 - val_accuracy: 0.7756\n",
            "Epoch 28/30\n",
            "45/45 [==============================] - 0s 8ms/step - loss: 0.4888 - accuracy: 0.7812 - val_loss: 0.4831 - val_accuracy: 0.7690\n",
            "Epoch 29/30\n",
            "45/45 [==============================] - 0s 7ms/step - loss: 0.4906 - accuracy: 0.7762 - val_loss: 0.4837 - val_accuracy: 0.7690\n",
            "Epoch 30/30\n",
            "45/45 [==============================] - 0s 7ms/step - loss: 0.4869 - accuracy: 0.7819 - val_loss: 0.4836 - val_accuracy: 0.7690\n"
          ]
        }
      ]
    },
    {
      "cell_type": "markdown",
      "source": [
        "After training, I evaluated the model's performance on the test set to assess its generalization ability.\n",
        "The obtained test accuracy of approximately 0.78 and test loss of around 0.45 indicate that the model effectively distinguishes between\n",
        "low and high market value companies, demonstrating satisfactory performance on unseen data."
      ],
      "metadata": {
        "id": "rxSn-LUErs14"
      }
    },
    {
      "cell_type": "code",
      "source": [
        "# Evaluating the model on the test set\n",
        "test_loss, test_accuracy = model.evaluate(X_test_scaled, y_test)\n",
        "print(\"Test Accuracy:\", test_accuracy)\n",
        "print(\"Test Loss:\", test_loss)"
      ],
      "metadata": {
        "colab": {
          "base_uri": "https://localhost:8080/"
        },
        "id": "l3v6CygYv98S",
        "outputId": "3c7b5f82-8306-4418-81c1-e880eb134eb8"
      },
      "execution_count": 164,
      "outputs": [
        {
          "output_type": "stream",
          "name": "stdout",
          "text": [
            "10/10 [==============================] - 0s 3ms/step - loss: 0.4480 - accuracy: 0.7789\n",
            "Test Accuracy: 0.7788779139518738\n",
            "Test Loss: 0.448003888130188\n"
          ]
        }
      ]
    },
    {
      "cell_type": "code",
      "source": [
        "# Making predictions on the test set\n",
        "y_pred_prob = model.predict(X_test_scaled)\n",
        "y_pred = (y_pred_prob > 0.5).astype(int)\n",
        "\n",
        "# Generating classification report\n",
        "report = classification_report(y_test, y_pred, target_names=['Low', 'High'])\n",
        "print(\"Classification Report:\")\n",
        "print(report)\n"
      ],
      "metadata": {
        "colab": {
          "base_uri": "https://localhost:8080/"
        },
        "id": "MnEzSQQ6zxWs",
        "outputId": "692f4e4f-b920-4097-be5a-1573dd023e0b"
      },
      "execution_count": 165,
      "outputs": [
        {
          "output_type": "stream",
          "name": "stdout",
          "text": [
            "10/10 [==============================] - 0s 2ms/step\n",
            "Classification Report:\n",
            "              precision    recall  f1-score   support\n",
            "\n",
            "         Low       0.70      0.90      0.79       137\n",
            "        High       0.89      0.68      0.77       166\n",
            "\n",
            "    accuracy                           0.78       303\n",
            "   macro avg       0.79      0.79      0.78       303\n",
            "weighted avg       0.80      0.78      0.78       303\n",
            "\n"
          ]
        }
      ]
    },
    {
      "cell_type": "code",
      "source": [
        "# Ploting accuracy and loss side by side\n",
        "plt.figure(figsize=(12, 5))\n",
        "\n",
        "# Ploting accuracy\n",
        "plt.subplot(1, 2, 1)\n",
        "plt.plot(history.history['accuracy'], label='Training Accuracy')\n",
        "plt.plot(history.history['val_accuracy'], label='Validation Accuracy')\n",
        "plt.xlabel('Epoch')\n",
        "plt.ylabel('Accuracy')\n",
        "plt.title('Training and Validation Accuracy')\n",
        "plt.legend()\n",
        "\n",
        "# Ploting loss\n",
        "plt.subplot(1, 2, 2)\n",
        "plt.plot(history.history['loss'], label='Training Loss')\n",
        "plt.plot(history.history['val_loss'], label='Validation Loss')\n",
        "plt.xlabel('Epoch')\n",
        "plt.ylabel('Loss')\n",
        "plt.title('Training and Validation Loss')\n",
        "plt.legend()\n",
        "\n",
        "plt.tight_layout()\n",
        "plt.show()\n"
      ],
      "metadata": {
        "colab": {
          "base_uri": "https://localhost:8080/",
          "height": 507
        },
        "id": "lu0MmV98wFAG",
        "outputId": "02c31028-4a18-4377-c8fc-35bc2eb0b7af"
      },
      "execution_count": 166,
      "outputs": [
        {
          "output_type": "display_data",
          "data": {
            "text/plain": [
              "<Figure size 1200x500 with 2 Axes>"
            ],
            "image/png": "[encoded data removed]"
          },
          "metadata": {}
        }
      ]
    },
    {
      "cell_type": "code",
      "source": [
        "model.save('my_model.keras')"
      ],
      "metadata": {
        "id": "Evc8-RqzDdeg"
      },
      "execution_count": 167,
      "outputs": []
    },
    {
      "cell_type": "markdown",
      "source": [
        "\n",
        "# **Conclusion:**\n",
        "\n",
        "**Model Performance:**\n",
        "\n",
        "The deep learning model achieved a test accuracy of approximately 0.78 and a test loss of around 0.45. These metrics indicate that the model correctly classified about 78% of the samples into their respective market value classes while maintaining a relatively low loss value. This suggests that the model has learned meaningful patterns from the data and can generalize well to unseen samples.\n",
        "\n",
        "**Classification Report:**\n",
        "\n",
        "The classification report provides a comprehensive assessment of the model's performance metrics for each class. For the low market value class, the precision is 0.70, recall is 0.90, and F1-score is 0.79. This indicates that out of all samples predicted as low market value, 70% are correctly classified, and 90% of actual low market value samples are identified by the model. The F1-score, which is the harmonic mean of precision and recall, is 0.79, indicating a good balance between precision and recall for this class. Similarly, for the high market value class, the precision is 0.89, recall is 0.68, and F1-score is 0.77. This suggests that out of all samples predicted as high market value, 89% are correctly classified, and 68% of actual high market value samples are identified by the model. Again, the F1-score of 0.77 demonstrates a good balance between precision and recall for this class.\n",
        "\n",
        "**Overall Assessment:**\n",
        "\n",
        "Overall, the deep learning model demonstrates satisfactory performance in classifying samples from dataset into the two created market value classes."
      ],
      "metadata": {
        "id": "TW0DaFnG9t3C"
      }
    }
  ]
}